{
 "cells": [
  {
   "cell_type": "code",
   "execution_count": 1,
   "metadata": {},
   "outputs": [],
   "source": [
    "import scipy\n",
    "import scipy.stats as sps\n",
    "import scipy.integrate as integr\n",
    "from scipy.optimize import minimize\n",
    "import numpy as np\n",
    "import matplotlib.pyplot as plt\n",
    "from collections import Counter"
   ]
  },
  {
   "cell_type": "code",
   "execution_count": 2,
   "metadata": {},
   "outputs": [],
   "source": [
    "def Chi2XtoInf(x, k):\n",
    "    return scipy.stats.chi2(k).sf(x)"
   ]
  },
  {
   "cell_type": "code",
   "execution_count": 3,
   "metadata": {},
   "outputs": [
    {
     "name": "stdout",
     "output_type": "stream",
     "text": [
      "[0, 0, 0, 0, 0, 1, 1, 1, 1, 1, 1, 1, 1, 2, 2, 2, 2, 2, 2, 3, 3, 3, 3, 3, 3, 3, 3, 3, 3, 3, 3, 4, 4, 4, 4, 4, 4, 4, 4, 4, 4, 4, 4, 4, 4, 5, 5, 5, 5, 5, 5, 5, 5, 5, 5, 5, 5, 5, 5, 5, 5, 5, 5, 6, 6, 6, 6, 6, 6, 6, 6, 6, 6, 6, 7, 7, 7, 7, 7, 7, 8, 8, 8, 8, 8, 8, 8, 8, 8, 8, 8, 8, 8, 9, 9, 9, 9, 9, 9, 9]\n"
     ]
    }
   ],
   "source": [
    "def Count(sample):\n",
    "    c = Counter(sample)\n",
    "    return c\n",
    "def Heights(counts, n):\n",
    "    cur_h = 0\n",
    "    heights = dict()\n",
    "    for cur_key in counts:\n",
    "        frequence = counts[cur_key] / n\n",
    "        heights[cur_key] = cur_h + frequence\n",
    "        cur_h += frequence\n",
    "        \n",
    "    return heights\n",
    "nums = [5, 8, 6, 12, 14, 18, 11, 6, 13, 7]\n",
    "sample = []\n",
    "for i in range(len(nums)):\n",
    "    tmp = [i] * nums[i]\n",
    "    sample += tmp\n",
    "print(sample)"
   ]
  },
  {
   "cell_type": "markdown",
   "metadata": {},
   "source": [
    "## a) Проверка c помощью χ²"
   ]
  },
  {
   "cell_type": "markdown",
   "metadata": {},
   "source": [
    "### p-value для χ²"
   ]
  },
  {
   "cell_type": "code",
   "execution_count": 4,
   "metadata": {},
   "outputs": [
    {
     "data": {
      "text/plain": [
       "0.058984030544419454"
      ]
     },
     "execution_count": 4,
     "metadata": {},
     "output_type": "execute_result"
    }
   ],
   "source": [
    "DeltaChi2 = 0\n",
    "for i in range(len(nums)):\n",
    "    DeltaChi2 += 0.1 * (nums[i] - 10) ** 2\n",
    "p_value1 = Chi2XtoInf(DeltaChi2, 9)\n",
    "p_value1"
   ]
  },
  {
   "cell_type": "markdown",
   "metadata": {},
   "source": [
    "## Проверка по Колмогорову"
   ]
  },
  {
   "cell_type": "code",
   "execution_count": 5,
   "metadata": {},
   "outputs": [],
   "source": [
    "def KolmogorovDelta(args, sample, n, func):\n",
    "    h_last_iter = 0\n",
    "    max_delta = -1\n",
    "    counts = Count(sample)\n",
    "    heights = Heights(counts, n)\n",
    "    \n",
    "    for x in heights:\n",
    "        f = func(x, args)\n",
    "        max_delta = max(max_delta, max(abs(f - heights[x]), abs(f - h_last_iter)))\n",
    "        h_last_iter = heights[x]\n",
    "        \n",
    "    return max_delta * np.sqrt(n)"
   ]
  },
  {
   "cell_type": "markdown",
   "metadata": {},
   "source": [
    "### p-value для Колмогорова"
   ]
  },
  {
   "cell_type": "code",
   "execution_count": 6,
   "metadata": {},
   "outputs": [
    {
     "data": {
      "text/plain": [
       "0.032851885438597406"
      ]
     },
     "execution_count": 6,
     "metadata": {},
     "output_type": "execute_result"
    }
   ],
   "source": [
    "def Linear(x, args):\n",
    "    a, b = args\n",
    "    return (x - a) / (b - a)\n",
    "def KolmogorovCd(x,n):\n",
    "    s = 0\n",
    "    for i in range(1, n):\n",
    "        s += (-1) ** i * np.exp(-2 * i * i * x * x)\n",
    "    return 1 + 2 * s\n",
    "n = 100\n",
    "kolmog_delta = KolmogorovDelta((0, 9), sample, n, Linear)\n",
    "p_value2=1-KolmogorovCd(kolmog_delta,n)\n",
    "p_value2"
   ]
  },
  {
   "cell_type": "markdown",
   "metadata": {},
   "source": [
    "## b)Проверка c помощью χ²"
   ]
  },
  {
   "cell_type": "markdown",
   "metadata": {},
   "source": [
    "### Минимизация"
   ]
  },
  {
   "cell_type": "code",
   "execution_count": 17,
   "metadata": {},
   "outputs": [
    {
     "name": "stdout",
     "output_type": "stream",
     "text": [
      "/1/ 100\n",
      "/2/ 0.0\n",
      "/3/ 0.09121121972586788\n",
      "/4/ teta1, teta2 :  5.2897 2.6795\n"
     ]
    }
   ],
   "source": [
    "\n",
    "def get_norm_pdf(x_cur, teta1_cur, teta2_cur):\n",
    "    return sps.norm.pdf(x = x_cur, loc = teta1_cur, scale = teta2_cur)\n",
    "\n",
    "\n",
    "def optim_log(teta_cur, pairs_cur):\n",
    "    L = 1\n",
    "    for i in range(len(pairs_cur[0])):\n",
    "        integral_value = integr.quad(get_norm_pdf, pairs_cur[0][i], pairs_cur[1][i], args = (teta_cur[0], teta_cur[1]))\n",
    "        L *= integral_value[0]\n",
    "        \n",
    "    return -np.log(L)\n",
    "\n",
    "pairs = np.array([[[-np.inf]*5 + [1]*8 + [2]*6 + [3]*12 + [4]*14 + [5]*18 + [6]*11 + [7]*6 + [8]*13 + [9]*7] , \n",
    "                  [[1]*5 + [2]*8 + [3]*6 + [4]*12 + [5]*14 + [6]*18 + [7]*11 + [8]*6 + [9]*13 + [np.inf]*7]])\n",
    "pairs = np.squeeze(pairs, axis=1)\n",
    "\n",
    "print(\"/1/\", n)\n",
    "print(\"/2/\", get_norm_pdf(-np.inf, 4, 3))\n",
    "print(\"/3/\", integr.quad(get_norm_pdf, -np.inf, 0, args = (4, 3))[0])\n",
    "    \n",
    "# Максимизируем логарифм ( минимализируем -lnL)\n",
    "\n",
    "optima = minimize(fun = optim_log,  x0 = [5, 2], args = (pairs,)) # из графика выборки возьмем 5, 2*sigma (95%) = 4\n",
    "\n",
    "teta1 = round(optima.x[0], 4)\n",
    "teta2 = round(optima.x[1], 4)\n",
    "print(\"/4/\", \"teta1, teta2 : \",teta1, teta2)\n"
   ]
  },
  {
   "cell_type": "code",
   "execution_count": 18,
   "metadata": {},
   "outputs": [
    {
     "name": "stdout",
     "output_type": "stream",
     "text": [
      "/5/ [ 5.46958787  5.50784693  8.66327066 11.8737082  14.18072312 14.75773227\n",
      " 13.38290855 10.57523613  7.28175447  8.30723179]\n",
      "/6/ delta =  9.801418398650844\n",
      "p-value 0.20010899336247517\n"
     ]
    }
   ],
   "source": [
    "\n",
    "my_p_full = np.array([integr.quad(get_norm_pdf, pairs[0][i], pairs[1][i], args = (teta1, teta2))[0] for i in range(n)])\n",
    "my_np_full = my_p_full * n\n",
    "\n",
    "my_np_res = np.delete(my_np_full, np.where(np.diff(my_np_full) == 0)[0] + 1)\n",
    "np_res = np.round(my_np_res, 3) \n",
    "print(\"/5/\", my_np_res)\n",
    "\n",
    "\n",
    "delta = np.sum((nums - np_res)**2 / np_res)\n",
    "print(\"/6/\", \"delta = \", delta)\n",
    "p_value = Chi2XtoInf(delta, 7)\n",
    "print(\"p-value\", p_value)"
   ]
  },
  {
   "cell_type": "markdown",
   "metadata": {},
   "source": [
    "## p-value > alpha, где alpha = 0.05  => нет оснований отвергать Ho."
   ]
  },
  {
   "cell_type": "markdown",
   "metadata": {},
   "source": [
    "## Проверка по Колмогорову"
   ]
  },
  {
   "cell_type": "code",
   "execution_count": 19,
   "metadata": {},
   "outputs": [],
   "source": [
    "def emp_func(sample_cur, n_cur):\n",
    "    xy_pairs = np.vstack(( np.sort(sample_cur), np.arange(0, n_cur) / n_cur )).T\n",
    "    uniq_elem = xy_pairs[0]\n",
    "    for pair_cur in xy_pairs:\n",
    "        if pair_cur[0] == uniq_elem[0]:\n",
    "            pair_cur[1] = uniq_elem[1]\n",
    "        else:\n",
    "            uniq_elem = pair_cur\n",
    "    return xy_pairs\n",
    "\n",
    "def norm_func(sample_cur, teta1_cur, teta2_cur):\n",
    "    x1 = np.sort(sample_cur)\n",
    "    y1 = sps.norm.cdf(x = x1, loc = teta1_cur, scale = teta2_cur)\n",
    "    return np.vstack((x1, y1)).T"
   ]
  },
  {
   "cell_type": "code",
   "execution_count": 21,
   "metadata": {},
   "outputs": [
    {
     "name": "stdout",
     "output_type": "stream",
     "text": [
      "/1/ 100 4.77 2.505414137423193\n",
      "/2/ (100, 2)\n",
      "/3/ [[0.   0.  ]\n",
      " [0.   0.  ]\n",
      " [0.   0.  ]\n",
      " [0.   0.  ]\n",
      " [0.   0.  ]\n",
      " [1.   0.05]\n",
      " [1.   0.05]\n",
      " [1.   0.05]\n",
      " [1.   0.05]\n",
      " [1.   0.05]]\n",
      "/4/ (100, 2)\n",
      "/5/ [[0.         0.02846311]\n",
      " [0.         0.02846311]\n",
      " [0.         0.02846311]\n",
      " [0.         0.02846311]\n",
      " [0.         0.02846311]\n",
      " [1.         0.06619531]\n",
      " [1.         0.06619531]\n",
      " [1.         0.06619531]\n",
      " [1.         0.06619531]\n",
      " [1.         0.06619531]]\n",
      "/6/ [0.02846311 0.02846311 0.02846311 0.02846311 0.02846311 0.01619531\n",
      " 0.01619531 0.01619531 0.01619531 0.01619531] [0.02846311 0.02846311 0.02846311 0.02846311 0.02153689 0.01619531\n",
      " 0.01619531 0.01619531 0.01619531 0.01619531] 0.045672642243731576\n",
      "/7/ delta =  1.013371112422481\n"
     ]
    }
   ],
   "source": [
    "xn = np.array([0]*5 + [1]*8 + [2]*6 + [3]*12 + [4]*14 + [5]*18 + [6]*11 + [7]*6 + [8]*13 + [9]*7)\n",
    "n = xn.size\n",
    "sqrt_n = n ** 0.5\n",
    "teta1 = np.mean(xn)\n",
    "teta2 = np.std(xn)\n",
    "print(\"/1/\", n, teta1, teta2)\n",
    "\n",
    "empf = emp_func(xn, n) \n",
    "print(\"/2/\", empf.shape)\n",
    "print(\"/3/\", empf[:10])\n",
    "\n",
    "normf = norm_func(xn, teta1, teta2) \n",
    "print(\"/4/\", normf.shape)\n",
    "print(\"/5/\", normf[:10])\n",
    "\n",
    "delta = sqrt_n * max(np.max(np.abs(empf[:, 1] - normf[:, 1])), np.max(np.abs(empf[1:, 1] - normf[:-1, 1])), np.abs(1 - normf[-1, 1])) # ~delta\n",
    "print(\"/6/\", np.abs(empf[:, 1] - normf[:, 1])[:10], np.abs(empf[1:, 1] - normf[:-1, 1])[:10], np.abs(1 - normf[-1, 1]))\n",
    "print(\"/7/\", \"delta = \", delta)"
   ]
  },
  {
   "cell_type": "code",
   "execution_count": 23,
   "metadata": {},
   "outputs": [
    {
     "name": "stdout",
     "output_type": "stream",
     "text": [
      "/8/ (50000, 100)\n",
      "/9/ (50000,)\n",
      "/10/ [4.76 4.68 5.14 5.02 4.66]\n",
      "/11/ [2.27648852 2.20399637 2.40840196 2.0541665  2.21006787]\n",
      "/12/ (50000, 100, 2)\n",
      "/13/ [[0.   0.  ]\n",
      " [0.   0.  ]\n",
      " [0.   0.  ]\n",
      " [1.   0.03]\n",
      " [1.   0.03]\n",
      " [1.   0.03]\n",
      " [1.   0.03]\n",
      " [1.   0.03]\n",
      " [1.   0.03]\n",
      " [1.   0.03]]\n",
      "/14/ (50000,)\n",
      "/15/ 43364\n",
      "/16/ 0.86728\n",
      "p-value =  0.86728\n"
     ]
    }
   ],
   "source": [
    "\n",
    "N = 50000\n",
    "x_boot = np.array([(np.round(sps.norm.rvs(size = n, loc = teta1, scale = teta2)))%10 for i in range (N)])\n",
    "print(\"/8/\", x_boot.shape)\n",
    "\n",
    "teta1_boot = np.mean(x_boot, axis=1)\n",
    "teta2_boot = np.std(x_boot, axis=1)\n",
    "print(\"/9/\", teta1_boot.shape)\n",
    "print(\"/10/\", teta1_boot[:5])\n",
    "print(\"/11/\", teta2_boot[:5])\n",
    "\n",
    "empf_boot = np.apply_along_axis(func1d = emp_func, axis = 1, arr = x_boot, n_cur = n) \n",
    "print(\"/12/\", empf_boot.shape)\n",
    "print(\"/13/\", empf_boot[0][:10])\n",
    "\n",
    "\n",
    "delta_boot = np.array([])\n",
    "for i in range(N):\n",
    "    empf_boot_cur = empf_boot[i]\n",
    "    normf_boot_cur = norm_func(x_boot[i], teta1_boot[i], teta2_boot[i]) \n",
    "    delta_boot_cur = sqrt_n * max(np.max(np.abs(empf_boot_cur[:, 1] - normf_boot_cur[:, 1])), \n",
    "                                  np.max(np.abs(empf_boot_cur[1:, 1] - normf_boot_cur[:-1, 1])), \n",
    "                                  np.abs(1 - normf_boot_cur[-1, 1])) \n",
    "    delta_boot = np.append(delta_boot, delta_boot_cur)\n",
    "\n",
    "\n",
    "\n",
    "delta_boot = np.sort(delta_boot) \n",
    "print(\"/14/\", delta_boot.shape)\n",
    "\n",
    "l = len([idelta for idelta in delta_boot if idelta >= delta])\n",
    "print(\"/15/\", l)\n",
    "\n",
    "p_value = l / N\n",
    "print(\"/16/\", p_value)\n",
    "print(\"p-value = \", p_value)\n"
   ]
  },
  {
   "cell_type": "markdown",
   "metadata": {},
   "source": [
    "## p-value > alpha, где alpha = 0.05  => нет оснований отвергать Ho."
   ]
  }
 ],
 "metadata": {
  "kernelspec": {
   "display_name": "Python 3",
   "language": "python",
   "name": "python3"
  },
  "language_info": {
   "codemirror_mode": {
    "name": "ipython",
    "version": 3
   },
   "file_extension": ".py",
   "mimetype": "text/x-python",
   "name": "python",
   "nbconvert_exporter": "python",
   "pygments_lexer": "ipython3",
   "version": "3.11.9"
  }
 },
 "nbformat": 4,
 "nbformat_minor": 2
}
