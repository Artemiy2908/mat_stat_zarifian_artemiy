{
 "cells": [
  {
   "cell_type": "code",
   "execution_count": 1,
   "metadata": {},
   "outputs": [],
   "source": [
    "import scipy.stats as sps\n",
    "import numpy as np\n",
    "import matplotlib.pyplot as plt\n",
    "teta = 7\n",
    "betta = 0.95\n",
    "n = 100"
   ]
  },
  {
   "cell_type": "code",
   "execution_count": 2,
   "metadata": {},
   "outputs": [
    {
     "name": "stdout",
     "output_type": "stream",
     "text": [
      "[1.12735906 1.20395016 1.41972672 1.09952621 1.30918495 1.05600836\n",
      " 1.45889552 1.12779017 1.11062043 1.08248884 1.01528053 1.22379079\n",
      " 1.15223897 1.10019238 1.23791936 1.37286158 1.14947372 1.19912435\n",
      " 1.05630278 1.19274335 1.08200961 1.03934885 1.1163054  1.0492565\n",
      " 1.15831746 1.06281235 1.03082927 1.04640723 1.3118693  1.2545974\n",
      " 1.02983796 1.39628342 1.30624381 1.11883592 1.06703537 1.09313308\n",
      " 1.17696301 1.04429295 1.04036672 1.00696285 1.12484015 1.17528363\n",
      " 1.08912671 1.04431478 1.01426697 1.04275301 1.00736157 1.02509056\n",
      " 1.04246094 1.00277043 1.29985967 1.08704449 1.08321232 1.00865788\n",
      " 1.09242362 1.37263609 1.09706151 1.28620792 1.08224775 1.14850757\n",
      " 1.08721029 1.91437442 1.0381147  1.00013784 1.29217304 1.0522449\n",
      " 1.13449527 1.03340591 1.23548704 1.18436673 1.20330679 1.17685179\n",
      " 1.11451104 1.04368384 1.80648357 1.50803317 1.07570604 1.01397846\n",
      " 1.0001512  1.02243791 1.23114852 1.0312946  1.02169078 1.65628976\n",
      " 1.00277663 1.0103459  1.04033633 1.01186555 1.1005136  1.03341782\n",
      " 1.03086765 2.88317196 1.13106161 1.11202719 1.1892552  1.02015673\n",
      " 1.00631471 1.76492045 1.11701327 1.80807394]\n",
      "med =  1.0982938569579035\n"
     ]
    }
   ],
   "source": [
    "x_n = sps.pareto.rvs(b =teta-1, size = n)\n",
    "print(x_n)\n",
    "print(\"med = \", np.median(x_n))"
   ]
  },
  {
   "cell_type": "markdown",
   "metadata": {},
   "source": [
    "## ПУНКТ D(b)"
   ]
  },
  {
   "cell_type": "code",
   "execution_count": 4,
   "metadata": {},
   "outputs": [
    {
     "name": "stdout",
     "output_type": "stream",
     "text": [
      "Доверительный интервал: (1.0834496820043507; 1.1267384486874996)\n",
      "Длина доверительного интервала 0.04328876668314896\n"
     ]
    }
   ],
   "source": [
    "# Асимптотический доверительный интервал для med (через ММП)\n",
    "\n",
    "teta_mmp = n/np.sum(np.log(x_n)) + 1\n",
    "t1 = sps.norm(loc = 0, scale = 1).ppf((1-betta)/2)\n",
    "t2 = sps.norm(loc = 0, scale = 1).ppf((1+betta)/2)\n",
    "\n",
    "board1 = 2**((teta_mmp - 1)**(-1)) - (np.log(2) * 2**((teta_mmp - 1)**(-1)) * t2) / (n**0.5 * (teta_mmp - 1)) \n",
    "board2 = 2**((teta_mmp - 1)**(-1)) - (np.log(2) * 2**((teta_mmp - 1)**(-1)) * t1) / (n**0.5 * (teta_mmp - 1))\n",
    "l = board2 - board1\n",
    "print(f\"Доверительный интервал: ({ board1}; { board2})\")\n",
    "print(f\"Длина доверительного интервала {l}\")"
   ]
  },
  {
   "cell_type": "markdown",
   "metadata": {},
   "source": [
    "## ПУНКТ D(c)"
   ]
  },
  {
   "cell_type": "code",
   "execution_count": 5,
   "metadata": {},
   "outputs": [
    {
     "name": "stdout",
     "output_type": "stream",
     "text": [
      "Доверительный интервал: (6.576806498610158; 9.295784340253455)\n",
      "Длина доверительного интервала 2.718977841643297\n"
     ]
    }
   ],
   "source": [
    "# Асимптотический доверительный интервал для параметра teta (через ММП)\n",
    "\n",
    "teta_mmp = n/np.sum(np.log(x_n)) + 1\n",
    "t1 = sps.norm(loc = 0, scale = 1).ppf((1-betta)/2)\n",
    "t2 = sps.norm(loc = 0, scale = 1).ppf((1+betta)/2)\n",
    "\n",
    "board1_mmp = teta_mmp - ((teta_mmp - 1) * t2) / n**0.5\n",
    "board2_mmp = teta_mmp - ((teta_mmp - 1) * t1) / n**0.5\n",
    "l = board2_mmp - board1_mmp\n",
    "print(f\"Доверительный интервал: ({board1_mmp}; {board2_mmp})\")\n",
    "print(f\"Длина доверительного интервала {l}\")"
   ]
  },
  {
   "cell_type": "markdown",
   "metadata": {},
   "source": [
    "## ПУНКТ t"
   ]
  },
  {
   "cell_type": "code",
   "execution_count": 6,
   "metadata": {},
   "outputs": [
    {
     "name": "stdout",
     "output_type": "stream",
     "text": [
      "Доверительный интервал: (6.601159420485902; 9.78365307155357)\n",
      "Длина доверительного интервала 3.1824936510676674\n"
     ]
    }
   ],
   "source": [
    "# Бутстраповский параметрический доверительный интервал\n",
    "\n",
    "def get_bootstrap(x, n_sample):\n",
    "    sample = np.random.choice(x, size = (x.size, n_sample), replace = True)\n",
    "    return sample\n",
    "\n",
    "N = 50000\n",
    "x_boot = get_bootstrap(x_n, N)\n",
    "x_boot_omm = np.sort(n / np.sum(np.log(x_boot), axis = 0) + 1) \n",
    "k1 = int((1 - betta) * N / 2)\n",
    "k2 = int((1 + betta) * N / 2)\n",
    "\n",
    "board1_boot_p = x_boot_omm[k1]\n",
    "board2_boot_p = x_boot_omm[k2]\n",
    "l = board2_boot_p - board1_boot_p\n",
    "print(f\"Доверительный интервал: ({board1_boot_p}; {board2_boot_p})\")\n",
    "print(f\"Длина доверительного интервала {l}\")\n"
   ]
  },
  {
   "cell_type": "code",
   "execution_count": 7,
   "metadata": {},
   "outputs": [
    {
     "name": "stdout",
     "output_type": "stream",
     "text": [
      "Доверительный интервал: (5.9957881198078695; 9.236052493619571)\n",
      "Длина доверительного интервала 3.2402643738117014\n"
     ]
    }
   ],
   "source": [
    "# Бутстраповский непараметрический доверительный интервал\n",
    "\n",
    "def get_bootstrap(x, n_sample):\n",
    "    sample = np.random.choice(x, size = (x.size, n_sample), replace = True)\n",
    "    return sample\n",
    "\n",
    "N = 1000\n",
    "x_boot = get_bootstrap(x_n, N)\n",
    "teta_mmp = n/np.sum(np.log(x_n)) + 1\n",
    "teta_boot = n / np.sum(np.log(x_boot), axis = 0) + 1\n",
    "\n",
    "delta = teta_boot - teta_mmp\n",
    "delta_sort = np.sort(delta) \n",
    "k1 = int((1 - betta) * N / 2)\n",
    "k2 = int((1 + betta) * N / 2)\n",
    "\n",
    "board1_boot = teta_mmp - delta_sort[k2]\n",
    "board2_boot = teta_mmp - delta_sort[k1]\n",
    "l = board2_boot - board1_boot\n",
    "print(f\"Доверительный интервал: ({board1_boot}; {board2_boot})\")\n",
    "print(f\"Длина доверительного интервала {l}\")"
   ]
  },
  {
   "cell_type": "markdown",
   "metadata": {},
   "source": [
    "## ПУНКТ f"
   ]
  },
  {
   "cell_type": "code",
   "execution_count": 10,
   "metadata": {},
   "outputs": [
    {
     "data": {
      "text/plain": [
       "<matplotlib.legend.Legend at 0x1435ac26c90>"
      ]
     },
     "execution_count": 10,
     "metadata": {},
     "output_type": "execute_result"
    },
    {
     "data": {
      "image/png": "[encoded data removed]",
      "text/plain": [
       "<Figure size 640x480 with 1 Axes>"
      ]
     },
     "metadata": {},
     "output_type": "display_data"
    }
   ],
   "source": [
    "# Сравнение доверительных интервалов\n",
    "\n",
    "plt.xlim(teta*0.5, teta*1.5)\n",
    "plt.ylim(0, 3.5)\n",
    "\n",
    "plt.text(teta - 1, 3.1, round(board2_mmp - board1_mmp, 4))\n",
    "plt.plot([board1_mmp, board2_mmp], [3,3], color='red', label = \"Асимптотический\")\n",
    "\n",
    "plt.text(teta - 1, 2.1, round(board2_boot_p - board1_boot_p, 4))\n",
    "plt.plot([board1_boot_p, board2_boot_p], [2,2], color='aqua', label = \"Бутст. период.\")\n",
    "\n",
    "plt.text(teta - 1, 1.1, round(board2_boot - board1_boot, 4))\n",
    "plt.plot([board1_boot, board2_boot], [1,1], color='pink', label = \"Бутст. непериод.\")\n",
    "\n",
    "plt.plot([teta, teta], [0.25,3.25], color='black', linestyle='--')\n",
    "plt.legend()"
   ]
  }
 ],
 "metadata": {
  "kernelspec": {
   "display_name": "Python 3",
   "language": "python",
   "name": "python3"
  },
  "language_info": {
   "codemirror_mode": {
    "name": "ipython",
    "version": 3
   },
   "file_extension": ".py",
   "mimetype": "text/x-python",
   "name": "python",
   "nbconvert_exporter": "python",
   "pygments_lexer": "ipython3",
   "version": "3.11.8"
  }
 },
 "nbformat": 4,
 "nbformat_minor": 2
}
