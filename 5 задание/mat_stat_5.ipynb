{
 "cells": [
  {
   "cell_type": "code",
   "execution_count": 2,
   "metadata": {},
   "outputs": [],
   "source": [
    "import scipy.stats as sps\n",
    "import numpy as np\n",
    "import matplotlib.pyplot as plt\n",
    "teta = 7\n",
    "betta = 0.95\n",
    "n = 100"
   ]
  },
  {
   "cell_type": "code",
   "execution_count": 4,
   "metadata": {},
   "outputs": [
    {
     "name": "stdout",
     "output_type": "stream",
     "text": [
      "[1.31068004 1.16224137 1.2330949  1.19145881 1.08158508 1.0023562\n",
      " 1.11542301 1.14061489 1.06511049 1.05065198 1.0500172  1.02772748\n",
      " 1.03537801 1.02551081 1.36532186 1.10805767 1.10094021 1.04596191\n",
      " 1.23009511 1.04736385 1.08099959 1.32506682 1.19365112 1.13196742\n",
      " 1.05036298 1.05079519 1.31505424 1.24896106 1.13449706 1.13766128\n",
      " 1.08000406 1.01268957 1.36150504 1.01809501 1.38314965 1.33326319\n",
      " 1.27678047 1.01719645 1.02752665 1.14218747 1.06469757 2.19616199\n",
      " 1.35853751 1.05417931 1.42718677 1.28758698 1.25256857 1.03068084\n",
      " 1.41705228 1.07169628 1.11310902 1.03294504 1.04199196 1.20488496\n",
      " 1.1123487  1.21869858 2.35398873 1.3102769  1.05625406 1.06994709\n",
      " 1.50111356 1.36542693 1.68395919 1.0230741  1.00825709 1.10970695\n",
      " 1.24844361 1.18516259 1.16121749 1.09171795 1.23685476 1.02499157\n",
      " 1.05531935 1.14978861 1.25314539 1.35038837 1.17430919 1.20392824\n",
      " 1.25450828 1.45676949 1.07422868 1.10674365 1.18985436 1.04679895\n",
      " 1.48613342 1.14685461 1.12206074 1.87932514 1.21739317 1.22995637\n",
      " 1.02260111 1.08343508 1.05598637 1.02577949 1.01553435 1.15931543\n",
      " 1.02141005 1.28707612 1.01268546 1.19429002]\n",
      "med =  1.136079170788057\n"
     ]
    }
   ],
   "source": [
    "x_n = sps.pareto.rvs(b =teta-1, size = n)\n",
    "print(x_n)\n",
    "print(\"med = \", np.median(x_n))"
   ]
  },
  {
   "cell_type": "markdown",
   "metadata": {},
   "source": [
    "## ПУНКТ D(b)"
   ]
  },
  {
   "cell_type": "code",
   "execution_count": 5,
   "metadata": {},
   "outputs": [
    {
     "name": "stdout",
     "output_type": "stream",
     "text": [
      "Доверительный интервал: (1.0951134221269605; 1.144863241730338)\n",
      "Длина доверительного интервала 0.04974981960337743\n"
     ]
    }
   ],
   "source": [
    "# Асимптотический доверительный интервал для med (через ММП)\n",
    "\n",
    "teta_mmp = n/np.sum(np.log(x_n)) + 1\n",
    "t1 = sps.norm(loc = 0, scale = 1).ppf((1-betta)/2)\n",
    "t2 = sps.norm(loc = 0, scale = 1).ppf((1+betta)/2)\n",
    "\n",
    "board1 = 2**((teta_mmp - 1)**(-1)) - (np.log(2) * 2**((teta_mmp - 1)**(-1)) * t2) / (n**0.5 * (teta_mmp - 1)) \n",
    "board2 = 2**((teta_mmp - 1)**(-1)) - (np.log(2) * 2**((teta_mmp - 1)**(-1)) * t1) / (n**0.5 * (teta_mmp - 1))\n",
    "l = board2 - board1\n",
    "print(f\"Доверительный интервал: ({ board1}; { board2})\")\n",
    "print(f\"Длина доверительного интервала {l}\")"
   ]
  },
  {
   "cell_type": "markdown",
   "metadata": {},
   "source": [
    "## ПУНКТ D(c)"
   ]
  },
  {
   "cell_type": "code",
   "execution_count": 6,
   "metadata": {},
   "outputs": [
    {
     "name": "stdout",
     "output_type": "stream",
     "text": [
      "Доверительный интервал: (5.917943441011546; 8.31569190976295)\n",
      "Длина доверительного интервала 2.397748468751405\n"
     ]
    }
   ],
   "source": [
    "# Асимптотический доверительный интервал для параметра teta (через ММП)\n",
    "\n",
    "teta_mmp = n/np.sum(np.log(x_n)) + 1\n",
    "t1 = sps.norm(loc = 0, scale = 1).ppf((1-betta)/2)\n",
    "t2 = sps.norm(loc = 0, scale = 1).ppf((1+betta)/2)\n",
    "\n",
    "board1_mmp = teta_mmp - ((teta_mmp - 1) * t2) / n**0.5\n",
    "board2_mmp = teta_mmp - ((teta_mmp - 1) * t1) / n**0.5\n",
    "l = board2_mmp - board1_mmp\n",
    "print(f\"Доверительный интервал: ({board1_mmp}; {board2_mmp})\")\n",
    "print(f\"Длина доверительного интервала {l}\")"
   ]
  },
  {
   "cell_type": "markdown",
   "metadata": {},
   "source": [
    "## ПУНКТ t"
   ]
  },
  {
   "cell_type": "code",
   "execution_count": 7,
   "metadata": {},
   "outputs": [
    {
     "name": "stdout",
     "output_type": "stream",
     "text": [
      "Доверительный интервал: (6.069968907823389; 8.526966031449351)\n",
      "Длина доверительного интервала 2.4569971236259622\n"
     ]
    }
   ],
   "source": [
    "# Бутстраповский параметрический доверительный интервал\n",
    "\n",
    "def get_bootstrap(teta_cur, N_cur):\n",
    "    sample = np.array([sps.pareto.rvs(b =teta_cur-1, size = n) for i in range (N_cur)])\n",
    "    return sample\n",
    "\n",
    "teta_mmp = n/np.sum(np.log(x_n)) + 1\n",
    "N = 50000\n",
    "x_boot = get_bootstrap(teta_mmp, N)\n",
    "x_boot_omm = np.sort(n / np.sum(np.log(x_boot), axis = 1) + 1) # вариац ряд\n",
    "k1 = int((1 - betta) * N / 2)\n",
    "k2 = int((1 + betta) * N / 2)\n",
    "\n",
    "board1_boot_p = x_boot_omm[k1]\n",
    "board2_boot_p = x_boot_omm[k2]\n",
    "l = board2_boot_p - board1_boot_p\n",
    "print(f\"Доверительный интервал: ({board1_boot_p}; {board2_boot_p})\")\n",
    "print(f\"Длина доверительного интервала {l}\")\n"
   ]
  },
  {
   "cell_type": "code",
   "execution_count": 8,
   "metadata": {},
   "outputs": [
    {
     "name": "stdout",
     "output_type": "stream",
     "text": [
      "Доверительный интервал: (5.830244523380852; 8.120727245969821)\n",
      "Длина доверительного интервала 2.290482722588969\n"
     ]
    }
   ],
   "source": [
    "# Бутстраповский непараметрический доверительный интервал\n",
    "\n",
    "def get_bootstrap(x, n_sample):\n",
    "    sample = np.random.choice(x, size = (x.size, n_sample), replace = True)\n",
    "    return sample\n",
    "\n",
    "N = 1000\n",
    "x_boot = get_bootstrap(x_n, N)\n",
    "teta_mmp = n/np.sum(np.log(x_n)) + 1\n",
    "teta_boot = n / np.sum(np.log(x_boot), axis = 0) + 1\n",
    "\n",
    "delta = teta_boot - teta_mmp\n",
    "delta_sort = np.sort(delta) \n",
    "k1 = int((1 - betta) * N / 2)\n",
    "k2 = int((1 + betta) * N / 2)\n",
    "\n",
    "board1_boot = teta_mmp - delta_sort[k2]\n",
    "board2_boot = teta_mmp - delta_sort[k1]\n",
    "l = board2_boot - board1_boot\n",
    "print(f\"Доверительный интервал: ({board1_boot}; {board2_boot})\")\n",
    "print(f\"Длина доверительного интервала {l}\")"
   ]
  },
  {
   "cell_type": "markdown",
   "metadata": {},
   "source": [
    "## ПУНКТ f"
   ]
  },
  {
   "cell_type": "code",
   "execution_count": 11,
   "metadata": {},
   "outputs": [
    {
     "data": {
      "text/plain": [
       "<matplotlib.legend.Legend at 0x13bf5e302d0>"
      ]
     },
     "execution_count": 11,
     "metadata": {},
     "output_type": "execute_result"
    },
    {
     "data": {
      "image/png": "[encoded data removed]",
      "text/plain": [
       "<Figure size 640x480 with 1 Axes>"
      ]
     },
     "metadata": {},
     "output_type": "display_data"
    }
   ],
   "source": [
    "# Сравнение доверительных интервалов\n",
    "\n",
    "plt.xlim(teta*0.5, teta*1.5)\n",
    "plt.ylim(0, 3.5)\n",
    "\n",
    "plt.text(teta - 1, 3.1, round(board2_mmp - board1_mmp, 4))\n",
    "plt.plot([board1_mmp, board2_mmp], [3,3], color='red', label = \"Асимптотический\")\n",
    "\n",
    "plt.text(teta - 1, 2.1, round(board2_boot_p - board1_boot_p, 4))\n",
    "plt.plot([board1_boot_p, board2_boot_p], [2,2], color='aqua', label = \"Бутст. период.\")\n",
    "\n",
    "plt.text(teta - 1, 1.1, round(board2_boot - board1_boot, 4))\n",
    "plt.plot([board1_boot, board2_boot], [1,1], color='pink', label = \"Бутст. непериод.\")\n",
    "\n",
    "plt.plot([teta, teta], [0.25,3.25], color='black', linestyle='--')\n",
    "plt.legend()\n"
   ]
  }
 ],
 "metadata": {
  "kernelspec": {
   "display_name": "Python 3",
   "language": "python",
   "name": "python3"
  },
  "language_info": {
   "codemirror_mode": {
    "name": "ipython",
    "version": 3
   },
   "file_extension": ".py",
   "mimetype": "text/x-python",
   "name": "python",
   "nbconvert_exporter": "python",
   "pygments_lexer": "ipython3",
   "version": "3.11.8"
  }
 },
 "nbformat": 4,
 "nbformat_minor": 2
}
