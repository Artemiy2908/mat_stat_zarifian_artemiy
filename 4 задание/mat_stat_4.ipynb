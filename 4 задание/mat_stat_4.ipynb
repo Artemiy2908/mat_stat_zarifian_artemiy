{
 "cells": [
  {
   "cell_type": "code",
   "execution_count": 5,
   "metadata": {},
   "outputs": [],
   "source": [
    "import scipy.stats as sps\n",
    "import numpy as np\n",
    "import matplotlib.pyplot as plt\n",
    "\n",
    "teta = 1\n",
    "betta = 0.95\n",
    "n = 100"
   ]
  },
  {
   "cell_type": "code",
   "execution_count": 6,
   "metadata": {},
   "outputs": [
    {
     "data": {
      "text/plain": [
       "array([1.16233665, 1.08413445, 1.88074858, 1.92802188, 1.73157933,\n",
       "       1.97334024, 1.74605866, 1.93463206, 1.73480443, 1.0522601 ,\n",
       "       1.15408966, 1.81407972, 1.24407614, 1.6120452 , 1.62659277,\n",
       "       1.19207788, 1.28383573, 1.33200896, 1.60966393, 1.91165443,\n",
       "       1.82263241, 1.30627657, 1.55681101, 1.92972413, 1.97956264,\n",
       "       1.44744701, 1.66813163, 1.94154605, 1.6223469 , 1.44946946,\n",
       "       1.20252694, 1.79852249, 1.7294589 , 1.56929922, 1.27136016,\n",
       "       1.32395338, 1.46503644, 1.44558819, 1.64172265, 1.1440398 ,\n",
       "       1.37222658, 1.6245731 , 1.85982358, 1.99802198, 1.66646608,\n",
       "       1.55901863, 1.90978848, 1.32457591, 1.03851932, 1.28159685,\n",
       "       1.04118567, 1.91036967, 1.36651339, 1.55285984, 1.99580458,\n",
       "       1.25419094, 1.23602443, 1.38339946, 1.54084004, 1.27803111,\n",
       "       1.54286563, 1.9355532 , 1.80809239, 1.21883776, 1.66059007,\n",
       "       1.39355701, 1.34248929, 1.06000496, 1.26709814, 1.31197807,\n",
       "       1.96683859, 1.96063062, 1.15196592, 1.94577687, 1.32641614,\n",
       "       1.04713746, 1.07337202, 1.30838033, 1.59683962, 1.3941543 ,\n",
       "       1.5696682 , 1.93849102, 1.01090136, 1.693387  , 1.49033339,\n",
       "       1.00403798, 1.94831692, 1.01684637, 1.47578018, 1.26550981,\n",
       "       1.733779  , 1.98627635, 1.66959547, 1.26699701, 1.76395821,\n",
       "       1.67386455, 1.74020977, 1.34511253, 1.47000413, 1.26544218])"
      ]
     },
     "execution_count": 6,
     "metadata": {},
     "output_type": "execute_result"
    }
   ],
   "source": [
    "x_n = sps.uniform(loc = teta, scale = teta).rvs(size=n)\n",
    "x_n"
   ]
  },
  {
   "cell_type": "code",
   "execution_count": 7,
   "metadata": {},
   "outputs": [
    {
     "name": "stdout",
     "output_type": "stream",
     "text": [
      "Доверительный интервал: (0.9991374552848022;1.0174350578311488)\n",
      "Длина доверительного интервала 0.018297602546346603\n"
     ]
    }
   ],
   "source": [
    "# Точный доверительный интервал\n",
    "\n",
    "t1 = ((1 - betta) / 2) ** (1 / n)\n",
    "t2 = ((1 + betta) / 2) ** (1 / n)\n",
    "x_max = np.max(x_n)\n",
    "\n",
    "board1_acc = x_max / (t2 + 1) \n",
    "board2_acc = x_max / (t1 + 1)\n",
    "l = board2_acc - board1_acc\n",
    "print(f\"Доверительный интервал: ({board1_acc};{board2_acc})\")\n",
    "print(f\"Длина доверительного интервала {l}\")"
   ]
  },
  {
   "cell_type": "code",
   "execution_count": 8,
   "metadata": {},
   "outputs": [
    {
     "name": "stdout",
     "output_type": "stream",
     "text": [
      "Доверительный интервал: (0.9756640089120073; 1.0531148742827234)\n",
      "Длина доверительного интервала 0.0774508653707161 \n"
     ]
    }
   ],
   "source": [
    "# Асимптотический доверительный интервал (через метод моментов)\n",
    "\n",
    "teta_omm = 2/3 * np.mean(x_n)\n",
    "t1 = sps.norm(loc = 0, scale = 1).ppf((1-betta)/2)\n",
    "t2 = sps.norm(loc = 0, scale = 1).ppf((1+betta)/2)\n",
    "alpha1 = np.mean(x_n)\n",
    "alpha2 = np.mean(x_n**2)\n",
    "\n",
    "board1_mm = teta_omm - 2/3 * (alpha2 - alpha1**2)**0.5 * t2 / n**0.5\n",
    "board2_mm = teta_omm - 2/3 * (alpha2 - alpha1**2)**0.5 * t1 / n**0.5\n",
    "l = board2_mm - board1_mm\n",
    "print(f\"Доверительный интервал: ({ board1_mm}; {board2_mm})\")\n",
    "print(f\"Длина доверительного интервала {l} \")"
   ]
  },
  {
   "cell_type": "code",
   "execution_count": 9,
   "metadata": {},
   "outputs": [
    {
     "name": "stdout",
     "output_type": "stream",
     "text": [
      "Доверительный интервал: (0.975707616193672; 1.0532950124226526)\n",
      "Длина доверительного интервала 0.07758739622898059\n"
     ]
    }
   ],
   "source": [
    "# Бутстраповский параметрический доверительный интервал (используется ОММ)\n",
    "\n",
    "def get_bootstrap(x, n_sample):\n",
    "    sample = np.random.choice(x, size = (x.size, n_sample), replace = True)\n",
    "    return sample\n",
    "\n",
    "N = 50000\n",
    "x_boot = get_bootstrap(x_n, N)\n",
    "x_boot_omm = np.sort(2/3 * np.mean(x_boot, axis = 0)) # вариац ряд\n",
    "k1 = int((1 - betta) * N / 2)\n",
    "k2 = int((1 + betta) * N / 2)\n",
    "\n",
    "board1_boot = x_boot_omm[k1]\n",
    "board2_boot = x_boot_omm[k2]\n",
    "l = board2_boot - board1_boot\n",
    "print(f\"Доверительный интервал: ({board1_boot}; {board2_boot})\")\n",
    "print(f\"Длина доверительного интервала {l}\")"
   ]
  },
  {
   "cell_type": "code",
   "execution_count": 15,
   "metadata": {},
   "outputs": [
    {
     "data": {
      "text/plain": [
       "<matplotlib.legend.Legend at 0x12fbc6ad510>"
      ]
     },
     "execution_count": 15,
     "metadata": {},
     "output_type": "execute_result"
    },
    {
     "data": {
      "image/png": "[encoded data removed]",
      "text/plain": [
       "<Figure size 640x480 with 1 Axes>"
      ]
     },
     "metadata": {},
     "output_type": "display_data"
    }
   ],
   "source": [
    "# Сравнение доверительных интервалов\n",
    "\n",
    "plt.xlim(teta*0.9, teta*1.1)\n",
    "plt.ylim(0, 3.5)\n",
    "\n",
    "plt.text(teta - 0.005, 3.1, round(board2_acc - board1_acc, 4))\n",
    "plt.plot([board1_acc, board2_acc], [3,3], color='red', label = \"Точный\")\n",
    "\n",
    "plt.text(teta - 0.005, 2.1, round(board2_mm - board1_mm, 4))\n",
    "plt.plot([board1_mm, board2_mm], [2,2], color='aqua', label = \"Асимпт.\")\n",
    "\n",
    "plt.text(teta - 0.005, 1.1, round(board2_boot - board1_boot, 4))\n",
    "plt.plot([board1_boot, board2_boot], [1,1], color='pink', label = \"Бутст.\")\n",
    "plt.legend()"
   ]
  }
 ],
 "metadata": {
  "kernelspec": {
   "display_name": "Python 3",
   "language": "python",
   "name": "python3"
  },
  "language_info": {
   "codemirror_mode": {
    "name": "ipython",
    "version": 3
   },
   "file_extension": ".py",
   "mimetype": "text/x-python",
   "name": "python",
   "nbconvert_exporter": "python",
   "pygments_lexer": "ipython3",
   "version": "3.11.8"
  }
 },
 "nbformat": 4,
 "nbformat_minor": 2
}
